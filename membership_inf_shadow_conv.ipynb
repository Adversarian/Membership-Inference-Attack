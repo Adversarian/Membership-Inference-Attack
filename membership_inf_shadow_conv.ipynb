{
 "cells": [
  {
   "attachments": {},
   "cell_type": "markdown",
   "metadata": {},
   "source": [
    "# Imports"
   ]
  },
  {
   "cell_type": "code",
   "execution_count": 1,
   "metadata": {},
   "outputs": [],
   "source": [
    "import torch\n",
    "from torch import nn\n",
    "from torch import optim\n",
    "from torch.nn import functional as F\n",
    "from torch.utils.data import Dataset, DataLoader, sampler\n",
    "\n",
    "from torchvision.datasets import CIFAR10\n",
    "from torchvision.transforms import ToTensor, Normalize, Compose\n",
    "\n",
    "import torchmetrics\n",
    "\n",
    "from torchinfo import summary\n",
    "\n",
    "from sklearn.model_selection import train_test_split\n",
    "\n",
    "import numpy as np\n",
    "\n",
    "from tqdm import tqdm"
   ]
  },
  {
   "attachments": {},
   "cell_type": "markdown",
   "metadata": {},
   "source": [
    "# Model Definition"
   ]
  },
  {
   "cell_type": "code",
   "execution_count": 2,
   "metadata": {},
   "outputs": [],
   "source": [
    "## Residual Layer\n",
    "class ResidualLayer(nn.Module):\n",
    "    def __init__(self, in_dim, out_dim):\n",
    "        super(ResidualLayer, self).__init__()\n",
    "        self.ConvBlock1 = nn.Sequential(\n",
    "            nn.Conv2d(in_channels=in_dim, out_channels=out_dim//2, kernel_size=3, padding='same', bias=False),\n",
    "            nn.BatchNorm2d(num_features=out_dim//2)\n",
    "        )\n",
    "        self.ConvBlock2 = nn.Sequential(\n",
    "            nn.Conv2d(in_channels=out_dim//2, out_channels=out_dim//2, kernel_size=3, padding='same', bias=False),\n",
    "            nn.BatchNorm2d(num_features=out_dim//2)\n",
    "        )\n",
    "        self.Shortcut1 = nn.Sequential(\n",
    "            nn.Conv2d(in_channels=in_dim, out_channels=out_dim//2, kernel_size=1, bias=False),\n",
    "            nn.BatchNorm2d(num_features=out_dim//2)\n",
    "        )\n",
    "        self.Shortcut2 = nn.Sequential(\n",
    "            nn.Conv2d(in_channels=out_dim//2, out_channels=out_dim//2, kernel_size=1, bias=False),\n",
    "            nn.BatchNorm2d(num_features=out_dim//2)\n",
    "        )\n",
    "        self.DownBlock = nn.Sequential(\n",
    "            nn.Conv2d(in_channels=out_dim//2, out_channels=out_dim, kernel_size=3, bias=False),\n",
    "            nn.BatchNorm2d(num_features=out_dim),\n",
    "            nn.ReLU(),\n",
    "            nn.AvgPool2d(kernel_size=2, stride=2)\n",
    "        )\n",
    "\n",
    "    def forward(self, x):\n",
    "        y = self.ConvBlock1(x)\n",
    "        x = F.relu(self.Shortcut1(x) + y)\n",
    "        y = self.ConvBlock2(x)\n",
    "        x = F.relu(self.Shortcut2(x) + y)\n",
    "        x = self.DownBlock(x)\n",
    "        return x\n"
   ]
  },
  {
   "cell_type": "code",
   "execution_count": 3,
   "metadata": {},
   "outputs": [],
   "source": [
    "## Feature Extractor\n",
    "class FE(nn.Module):\n",
    "    def __init__(self, depths=[3, 32, 64]) -> None:\n",
    "        super(FE, self).__init__()\n",
    "        self.features = nn.Sequential(\n",
    "            ResidualLayer(depths[0], depths[1]),\n",
    "            ResidualLayer(depths[1], depths[2])\n",
    "        )\n",
    "        \n",
    "    def forward(self, x):\n",
    "        return self.features(x)"
   ]
  },
  {
   "cell_type": "code",
   "execution_count": 4,
   "metadata": {},
   "outputs": [
    {
     "data": {
      "text/plain": [
       "==========================================================================================\n",
       "Layer (type:depth-idx)                   Output Shape              Param #\n",
       "==========================================================================================\n",
       "FE                                       [1, 64, 6, 6]             --\n",
       "├─Sequential: 1-1                        [1, 64, 6, 6]             --\n",
       "│    └─ResidualLayer: 2-1                [1, 32, 15, 15]           --\n",
       "│    │    └─Sequential: 3-1              [1, 16, 32, 32]           --\n",
       "│    │    │    └─Conv2d: 4-1             [1, 16, 32, 32]           432\n",
       "│    │    │    └─BatchNorm2d: 4-2        [1, 16, 32, 32]           32\n",
       "│    │    └─Sequential: 3-2              [1, 16, 32, 32]           --\n",
       "│    │    │    └─Conv2d: 4-3             [1, 16, 32, 32]           48\n",
       "│    │    │    └─BatchNorm2d: 4-4        [1, 16, 32, 32]           32\n",
       "│    │    └─Sequential: 3-3              [1, 16, 32, 32]           --\n",
       "│    │    │    └─Conv2d: 4-5             [1, 16, 32, 32]           2,304\n",
       "│    │    │    └─BatchNorm2d: 4-6        [1, 16, 32, 32]           32\n",
       "│    │    └─Sequential: 3-4              [1, 16, 32, 32]           --\n",
       "│    │    │    └─Conv2d: 4-7             [1, 16, 32, 32]           256\n",
       "│    │    │    └─BatchNorm2d: 4-8        [1, 16, 32, 32]           32\n",
       "│    │    └─Sequential: 3-5              [1, 32, 15, 15]           --\n",
       "│    │    │    └─Conv2d: 4-9             [1, 32, 30, 30]           4,608\n",
       "│    │    │    └─BatchNorm2d: 4-10       [1, 32, 30, 30]           64\n",
       "│    │    │    └─ReLU: 4-11              [1, 32, 30, 30]           --\n",
       "│    │    │    └─AvgPool2d: 4-12         [1, 32, 15, 15]           --\n",
       "│    └─ResidualLayer: 2-2                [1, 64, 6, 6]             --\n",
       "│    │    └─Sequential: 3-6              [1, 32, 15, 15]           --\n",
       "│    │    │    └─Conv2d: 4-13            [1, 32, 15, 15]           9,216\n",
       "│    │    │    └─BatchNorm2d: 4-14       [1, 32, 15, 15]           64\n",
       "│    │    └─Sequential: 3-7              [1, 32, 15, 15]           --\n",
       "│    │    │    └─Conv2d: 4-15            [1, 32, 15, 15]           1,024\n",
       "│    │    │    └─BatchNorm2d: 4-16       [1, 32, 15, 15]           64\n",
       "│    │    └─Sequential: 3-8              [1, 32, 15, 15]           --\n",
       "│    │    │    └─Conv2d: 4-17            [1, 32, 15, 15]           9,216\n",
       "│    │    │    └─BatchNorm2d: 4-18       [1, 32, 15, 15]           64\n",
       "│    │    └─Sequential: 3-9              [1, 32, 15, 15]           --\n",
       "│    │    │    └─Conv2d: 4-19            [1, 32, 15, 15]           1,024\n",
       "│    │    │    └─BatchNorm2d: 4-20       [1, 32, 15, 15]           64\n",
       "│    │    └─Sequential: 3-10             [1, 64, 6, 6]             --\n",
       "│    │    │    └─Conv2d: 4-21            [1, 64, 13, 13]           18,432\n",
       "│    │    │    └─BatchNorm2d: 4-22       [1, 64, 13, 13]           128\n",
       "│    │    │    └─ReLU: 4-23              [1, 64, 13, 13]           --\n",
       "│    │    │    └─AvgPool2d: 4-24         [1, 64, 6, 6]             --\n",
       "==========================================================================================\n",
       "Total params: 47,136\n",
       "Trainable params: 47,136\n",
       "Non-trainable params: 0\n",
       "Total mult-adds (M): 14.98\n",
       "==========================================================================================\n",
       "Input size (MB): 0.01\n",
       "Forward/backward pass size (MB): 2.14\n",
       "Params size (MB): 0.19\n",
       "Estimated Total Size (MB): 2.34\n",
       "=========================================================================================="
      ]
     },
     "execution_count": 4,
     "metadata": {},
     "output_type": "execute_result"
    }
   ],
   "source": [
    "summary(FE(),input_size=(1, 3, 32, 32), depth=4)"
   ]
  },
  {
   "cell_type": "code",
   "execution_count": 5,
   "metadata": {},
   "outputs": [],
   "source": [
    "## Classifier\n",
    "class CLF(nn.Module):\n",
    "    def __init__(self, depths=[64, 96], num_classes=10) -> None:\n",
    "        super(CLF, self).__init__()\n",
    "        self.features = ResidualLayer(depths[0], depths[1])\n",
    "        self.classfier = nn.Sequential(\n",
    "            nn.Flatten(),\n",
    "            nn.Linear(in_features=2*2*depths[1], out_features=num_classes)\n",
    "        )\n",
    "        \n",
    "    def forward(self, x):\n",
    "        x = self.features(x)\n",
    "        return self.classfier(x)"
   ]
  },
  {
   "cell_type": "code",
   "execution_count": 6,
   "metadata": {},
   "outputs": [
    {
     "data": {
      "text/plain": [
       "==========================================================================================\n",
       "Layer (type:depth-idx)                   Output Shape              Param #\n",
       "==========================================================================================\n",
       "CLF                                      [1, 10]                   --\n",
       "├─ResidualLayer: 1-1                     [1, 96, 2, 2]             --\n",
       "│    └─Sequential: 2-1                   [1, 48, 6, 6]             --\n",
       "│    │    └─Conv2d: 3-1                  [1, 48, 6, 6]             27,648\n",
       "│    │    └─BatchNorm2d: 3-2             [1, 48, 6, 6]             96\n",
       "│    └─Sequential: 2-2                   [1, 48, 6, 6]             --\n",
       "│    │    └─Conv2d: 3-3                  [1, 48, 6, 6]             3,072\n",
       "│    │    └─BatchNorm2d: 3-4             [1, 48, 6, 6]             96\n",
       "│    └─Sequential: 2-3                   [1, 48, 6, 6]             --\n",
       "│    │    └─Conv2d: 3-5                  [1, 48, 6, 6]             20,736\n",
       "│    │    └─BatchNorm2d: 3-6             [1, 48, 6, 6]             96\n",
       "│    └─Sequential: 2-4                   [1, 48, 6, 6]             --\n",
       "│    │    └─Conv2d: 3-7                  [1, 48, 6, 6]             2,304\n",
       "│    │    └─BatchNorm2d: 3-8             [1, 48, 6, 6]             96\n",
       "│    └─Sequential: 2-5                   [1, 96, 2, 2]             --\n",
       "│    │    └─Conv2d: 3-9                  [1, 96, 4, 4]             41,472\n",
       "│    │    └─BatchNorm2d: 3-10            [1, 96, 4, 4]             192\n",
       "│    │    └─ReLU: 3-11                   [1, 96, 4, 4]             --\n",
       "│    │    └─AvgPool2d: 3-12              [1, 96, 2, 2]             --\n",
       "├─Sequential: 1-2                        [1, 10]                   --\n",
       "│    └─Flatten: 2-6                      [1, 384]                  --\n",
       "│    └─Linear: 2-7                       [1, 10]                   3,850\n",
       "==========================================================================================\n",
       "Total params: 99,658\n",
       "Trainable params: 99,658\n",
       "Non-trainable params: 0\n",
       "Total mult-adds (M): 2.60\n",
       "==========================================================================================\n",
       "Input size (MB): 0.01\n",
       "Forward/backward pass size (MB): 0.14\n",
       "Params size (MB): 0.40\n",
       "Estimated Total Size (MB): 0.54\n",
       "=========================================================================================="
      ]
     },
     "execution_count": 6,
     "metadata": {},
     "output_type": "execute_result"
    }
   ],
   "source": [
    "summary(CLF(),input_size=(1, 64, 6, 6))"
   ]
  },
  {
   "cell_type": "code",
   "execution_count": 7,
   "metadata": {},
   "outputs": [],
   "source": [
    "## Attacker\n",
    "class ATK(nn.Module):\n",
    "    def __init__(self, depths=[64, 96], widths=[128, 64]) -> None:\n",
    "        super(ATK, self).__init__()\n",
    "        self.features_fe = ResidualLayer(depths[0], depths[1])\n",
    "        self.features_shadow = ResidualLayer(depths[0], depths[1])\n",
    "        self.classfier_fe = nn.Sequential(\n",
    "            nn.Flatten(),\n",
    "            nn.Linear(in_features=2*2*depths[1], out_features=widths[0]),\n",
    "            nn.ReLU()\n",
    "        )\n",
    "        self.classfier_shadow = nn.Sequential(\n",
    "            nn.Flatten(),\n",
    "            nn.Linear(in_features=2*2*depths[1], out_features=widths[0]),\n",
    "            nn.ReLU()\n",
    "        )\n",
    "        self.classifier = nn.Sequential(\n",
    "            nn.Linear(in_features=2*widths[0], out_features=widths[1]),\n",
    "            nn.ReLU(),\n",
    "            nn.Linear(in_features=widths[1], out_features=1)\n",
    "        )\n",
    "        \n",
    "    def forward(self, f_shadow, f_actual):\n",
    "        f_shadow = self.features_shadow(f_shadow)\n",
    "        f_actual = self.features_fe(f_actual)\n",
    "        f_shadow = self.classfier_fe(f_shadow)\n",
    "        f_actual = self.classfier_shadow(f_actual)\n",
    "        return self.classifier(torch.cat([f_shadow, f_actual], dim=1))"
   ]
  },
  {
   "cell_type": "code",
   "execution_count": 8,
   "metadata": {},
   "outputs": [
    {
     "data": {
      "text/plain": [
       "==========================================================================================\n",
       "Layer (type:depth-idx)                   Output Shape              Param #\n",
       "==========================================================================================\n",
       "ATK                                      [1, 1]                    --\n",
       "├─ResidualLayer: 1-1                     [1, 96, 2, 2]             --\n",
       "│    └─Sequential: 2-1                   [1, 48, 6, 6]             --\n",
       "│    │    └─Conv2d: 3-1                  [1, 48, 6, 6]             27,648\n",
       "│    │    └─BatchNorm2d: 3-2             [1, 48, 6, 6]             96\n",
       "│    └─Sequential: 2-2                   [1, 48, 6, 6]             --\n",
       "│    │    └─Conv2d: 3-3                  [1, 48, 6, 6]             3,072\n",
       "│    │    └─BatchNorm2d: 3-4             [1, 48, 6, 6]             96\n",
       "│    └─Sequential: 2-3                   [1, 48, 6, 6]             --\n",
       "│    │    └─Conv2d: 3-5                  [1, 48, 6, 6]             20,736\n",
       "│    │    └─BatchNorm2d: 3-6             [1, 48, 6, 6]             96\n",
       "│    └─Sequential: 2-4                   [1, 48, 6, 6]             --\n",
       "│    │    └─Conv2d: 3-7                  [1, 48, 6, 6]             2,304\n",
       "│    │    └─BatchNorm2d: 3-8             [1, 48, 6, 6]             96\n",
       "│    └─Sequential: 2-5                   [1, 96, 2, 2]             --\n",
       "│    │    └─Conv2d: 3-9                  [1, 96, 4, 4]             41,472\n",
       "│    │    └─BatchNorm2d: 3-10            [1, 96, 4, 4]             192\n",
       "│    │    └─ReLU: 3-11                   [1, 96, 4, 4]             --\n",
       "│    │    └─AvgPool2d: 3-12              [1, 96, 2, 2]             --\n",
       "├─ResidualLayer: 1-2                     [1, 96, 2, 2]             --\n",
       "│    └─Sequential: 2-6                   [1, 48, 6, 6]             --\n",
       "│    │    └─Conv2d: 3-13                 [1, 48, 6, 6]             27,648\n",
       "│    │    └─BatchNorm2d: 3-14            [1, 48, 6, 6]             96\n",
       "│    └─Sequential: 2-7                   [1, 48, 6, 6]             --\n",
       "│    │    └─Conv2d: 3-15                 [1, 48, 6, 6]             3,072\n",
       "│    │    └─BatchNorm2d: 3-16            [1, 48, 6, 6]             96\n",
       "│    └─Sequential: 2-8                   [1, 48, 6, 6]             --\n",
       "│    │    └─Conv2d: 3-17                 [1, 48, 6, 6]             20,736\n",
       "│    │    └─BatchNorm2d: 3-18            [1, 48, 6, 6]             96\n",
       "│    └─Sequential: 2-9                   [1, 48, 6, 6]             --\n",
       "│    │    └─Conv2d: 3-19                 [1, 48, 6, 6]             2,304\n",
       "│    │    └─BatchNorm2d: 3-20            [1, 48, 6, 6]             96\n",
       "│    └─Sequential: 2-10                  [1, 96, 2, 2]             --\n",
       "│    │    └─Conv2d: 3-21                 [1, 96, 4, 4]             41,472\n",
       "│    │    └─BatchNorm2d: 3-22            [1, 96, 4, 4]             192\n",
       "│    │    └─ReLU: 3-23                   [1, 96, 4, 4]             --\n",
       "│    │    └─AvgPool2d: 3-24              [1, 96, 2, 2]             --\n",
       "├─Sequential: 1-3                        [1, 128]                  --\n",
       "│    └─Flatten: 2-11                     [1, 384]                  --\n",
       "│    └─Linear: 2-12                      [1, 128]                  49,280\n",
       "│    └─ReLU: 2-13                        [1, 128]                  --\n",
       "├─Sequential: 1-4                        [1, 128]                  --\n",
       "│    └─Flatten: 2-14                     [1, 384]                  --\n",
       "│    └─Linear: 2-15                      [1, 128]                  49,280\n",
       "│    └─ReLU: 2-16                        [1, 128]                  --\n",
       "├─Sequential: 1-5                        [1, 1]                    --\n",
       "│    └─Linear: 2-17                      [1, 64]                   16,448\n",
       "│    └─ReLU: 2-18                        [1, 64]                   --\n",
       "│    └─Linear: 2-19                      [1, 1]                    65\n",
       "==========================================================================================\n",
       "Total params: 306,689\n",
       "Trainable params: 306,689\n",
       "Non-trainable params: 0\n",
       "Total mult-adds (M): 5.31\n",
       "==========================================================================================\n",
       "Input size (MB): 0.02\n",
       "Forward/backward pass size (MB): 0.27\n",
       "Params size (MB): 1.23\n",
       "Estimated Total Size (MB): 1.52\n",
       "=========================================================================================="
      ]
     },
     "execution_count": 8,
     "metadata": {},
     "output_type": "execute_result"
    }
   ],
   "source": [
    "summary(ATK(),input_data=(torch.randn(1, 64, 6, 6), torch.randn(1, 64, 6, 6)))"
   ]
  },
  {
   "attachments": {},
   "cell_type": "markdown",
   "metadata": {},
   "source": [
    "# Data Preparation"
   ]
  },
  {
   "cell_type": "code",
   "execution_count": 9,
   "metadata": {},
   "outputs": [],
   "source": [
    "tfms = Compose([\n",
    "    ToTensor(),\n",
    "    Normalize((0.5, 0.5, 0.5), (0.5, 0.5, 0.5))\n",
    "])\n",
    "batch_size = 256\n",
    "batch_size_shadow = 2*batch_size\n",
    "\n",
    "clf_trainds = CIFAR10(root='PyTorch-StudioGAN/data/', transform=tfms)\n",
    "\n",
    "shadow_testds = CIFAR10(root='PyTorch-StudioGAN/data/', train=False, transform=tfms)\n",
    "shadow_train_dl = DataLoader(clf_trainds, batch_size=batch_size_shadow, shuffle=True)\n",
    "shadow_test_dl = DataLoader(shadow_testds, batch_size=batch_size_shadow, shuffle=False)\n",
    "\n",
    "clf_train_idx, clf_test_idx = train_test_split(\n",
    "    np.arange(len(clf_trainds.targets)), test_size=0.5, shuffle=True, stratify=clf_trainds.targets\n",
    ")\n",
    "train_sampler = sampler.SubsetRandomSampler(clf_train_idx)\n",
    "test_sampler = sampler.SubsetRandomSampler(clf_test_idx)\n",
    "\n",
    "clf_train_dl = DataLoader(clf_trainds, batch_size=batch_size, sampler=train_sampler)\n",
    "clf_test_dl = DataLoader(clf_trainds, batch_size=batch_size, sampler=test_sampler)\n",
    "\n",
    "atk_trainds = CIFAR10(root='PyTorch-StudioGAN/data/', transform=tfms)\n",
    "atk_targets = np.asarray(atk_trainds.targets)\n",
    "atk_targets[clf_train_idx.tolist()] = 1\n",
    "atk_targets[clf_test_idx.tolist()] = 0\n",
    "atk_trainds.targets = atk_targets.tolist()\n",
    "\n",
    "atk_train_idx, atk_test_idx = train_test_split(\n",
    "    np.arange(len(atk_trainds.targets)), test_size=0.2, shuffle=True, stratify=atk_trainds.targets\n",
    ")\n",
    "atk_train_sampler = sampler.SubsetRandomSampler(atk_train_idx)\n",
    "atk_test_sampler = sampler.SubsetRandomSampler(atk_test_idx)\n",
    "\n",
    "atk_train_dl = DataLoader(atk_trainds, batch_size=batch_size, sampler=atk_train_sampler)\n",
    "atk_test_dl = DataLoader(atk_trainds, batch_size=batch_size, sampler=atk_test_sampler)"
   ]
  },
  {
   "attachments": {},
   "cell_type": "markdown",
   "metadata": {},
   "source": [
    "# Training"
   ]
  },
  {
   "cell_type": "code",
   "execution_count": 10,
   "metadata": {},
   "outputs": [],
   "source": [
    "def freeze(model):\n",
    "    for param in model.parameters():\n",
    "        param.requires_grad_(False)\n",
    "    model.eval()\n",
    "\n",
    "def unfreeze(model):\n",
    "    for param in model.parameters():\n",
    "        param.requires_grad_(True)\n",
    "    model.train()"
   ]
  },
  {
   "cell_type": "code",
   "execution_count": 11,
   "metadata": {},
   "outputs": [],
   "source": [
    "@torch.no_grad()\n",
    "def eval_atk(fe, shadow_fe, atk, atk_test_dl, atk_criterion, device):\n",
    "    fe.eval()\n",
    "    shadow_fe.eval()\n",
    "    atk.eval()\n",
    "    acc = torchmetrics.Accuracy().to(device)\n",
    "    loss = []\n",
    "    for (X, y) in atk_test_dl:\n",
    "        X, y = X.to(device), y.to(device)\n",
    "        features_actual = fe(X)\n",
    "        features_shadow = shadow_fe(X)\n",
    "        atk_y = atk(features_shadow, features_actual).squeeze()\n",
    "        loss.append(atk_criterion(atk_y, y.float()).item())\n",
    "        acc(atk_y, y)\n",
    "    loss = np.asarray(loss).mean()\n",
    "    print(f'Adversary Loss: {loss} | Adversary Accuracy: {acc.compute()}')"
   ]
  },
  {
   "cell_type": "code",
   "execution_count": 12,
   "metadata": {},
   "outputs": [],
   "source": [
    "@torch.no_grad()\n",
    "def eval_clf(fe, clf, clf_test_dl, clf_criterion, device):\n",
    "    fe.eval()\n",
    "    clf.eval()\n",
    "    acc = torchmetrics.Accuracy().to(device)\n",
    "    loss = []\n",
    "    for (X, y) in clf_test_dl:\n",
    "        X, y = X.to(device), y.to(device)\n",
    "        features = fe(X)\n",
    "        clf_y = clf(features)\n",
    "        loss.append(clf_criterion(clf_y, y).item())\n",
    "        acc(clf_y, y)\n",
    "    loss = np.asarray(loss).mean()\n",
    "    print(f'Classifier Loss: {loss} | Classifier Accuracy: {acc.compute()}')"
   ]
  },
  {
   "cell_type": "code",
   "execution_count": 13,
   "metadata": {},
   "outputs": [],
   "source": [
    "def train(clf_train_dl, clf_test_dl, atk_train_dl, atk_test_dl, shadow_train_dl, shadow_test_dl, n_epochs, steps_per_epoch = 5):\n",
    "    device = 'cuda' if torch.cuda.is_available() else 'cpu'\n",
    "\n",
    "    feature_extractor = FE().to(device)\n",
    "    adversary = ATK().to(device)\n",
    "    classifier = CLF().to(device)\n",
    "    shadow_feature_extractor = FE().to(device)\n",
    "    shadow_feature_extractor.load_state_dict(feature_extractor.state_dict())\n",
    "    shadow_classifier = CLF().to(device)\n",
    "    shadow_classifier.load_state_dict(classifier.state_dict())\n",
    "\n",
    "    atk_criterion = nn.BCEWithLogitsLoss().to(device)\n",
    "    clf_criterion = nn.CrossEntropyLoss().to(device)\n",
    "\n",
    "    fe_optim = optim.AdamW(feature_extractor.parameters())\n",
    "    atk_optim = optim.AdamW(adversary.parameters())\n",
    "    clf_optim = optim.AdamW(classifier.parameters())\n",
    "    shadow_fe_optim = optim.AdamW(shadow_feature_extractor.parameters())\n",
    "    shadow_clf_optim = optim.AdamW(shadow_classifier.parameters())\n",
    "    \n",
    "    for epoch in range(n_epochs):\n",
    "        print(f'EPOCH [{epoch+1}/{n_epochs}]:')\n",
    "        # TODO: Clean train steps\n",
    "        ## train FE+CLF\n",
    "        print('Training FE+CLF...')\n",
    "        bar = tqdm(range(steps_per_epoch))\n",
    "        for i in bar:\n",
    "            for (X, y) in clf_train_dl:\n",
    "                X, y = X.to(device), y.to(device)\n",
    "                fe_optim.zero_grad()\n",
    "                clf_optim.zero_grad()\n",
    "                features = feature_extractor(X)\n",
    "                predictions = classifier(features)\n",
    "                loss = clf_criterion(predictions, y)\n",
    "                loss.backward()\n",
    "                fe_optim.step()\n",
    "                clf_optim.step()\n",
    "            bar.set_postfix_str(f'[Loss at epoch {i+1}: {loss.item():4f}]', refresh=True)\n",
    "        print('FE+CLF evaluation:')\n",
    "        eval_clf(feature_extractor, classifier, clf_test_dl, clf_criterion, device)\n",
    "\n",
    "        ## train shadow FE\n",
    "        print('Training Shadow FE+Shadow CLF...')\n",
    "        bar = tqdm(range(steps_per_epoch))\n",
    "        for i in bar:\n",
    "            for (X, y) in shadow_train_dl:\n",
    "                X, y = X.to(device), y.to(device)\n",
    "                shadow_fe_optim.zero_grad()\n",
    "                shadow_clf_optim.zero_grad()\n",
    "                features = shadow_feature_extractor(X)\n",
    "                predictions = shadow_classifier(features)\n",
    "                loss = clf_criterion(predictions, y)\n",
    "                loss.backward()\n",
    "                shadow_fe_optim.step()\n",
    "                shadow_clf_optim.step()\n",
    "            bar.set_postfix_str(f'[Loss at epoch {i+1}: {loss.item():4f}]', refresh=True)\n",
    "        print('Shadow FE+Shadow CLF evaluation:')\n",
    "        eval_clf(shadow_feature_extractor, shadow_classifier, shadow_test_dl, clf_criterion, device)\n",
    "\n",
    "        ## train ATK\n",
    "        print('Training ATK...')\n",
    "        freeze(feature_extractor)\n",
    "        freeze(shadow_feature_extractor)\n",
    "        bar = tqdm(range(steps_per_epoch//2))\n",
    "        for i in bar:\n",
    "            for (X, y) in atk_train_dl:\n",
    "                X, y = X.to(device), y.to(device).float()\n",
    "                atk_optim.zero_grad()\n",
    "                features_actual = feature_extractor(X)\n",
    "                features_shadow = shadow_feature_extractor(X)\n",
    "                adversary_preds = adversary(features_shadow, features_actual).squeeze()\n",
    "                loss_atk = atk_criterion(adversary_preds, y)    \n",
    "                loss_atk.backward()\n",
    "                atk_optim.step()\n",
    "            bar.set_postfix_str(f'[Loss at epoch {i+1}: {loss_atk.item():4f}]', refresh=True)\n",
    "        unfreeze(feature_extractor)\n",
    "        unfreeze(shadow_feature_extractor)\n",
    "        \n",
    "        print('Adversary Evaluation:')\n",
    "        eval_atk(feature_extractor, shadow_feature_extractor, adversary, atk_test_dl, atk_criterion, device)\n",
    "    return feature_extractor, shadow_feature_extractor, adversary, classifier\n"
   ]
  },
  {
   "cell_type": "code",
   "execution_count": 14,
   "metadata": {},
   "outputs": [
    {
     "name": "stdout",
     "output_type": "stream",
     "text": [
      "EPOCH [1/1]:\n",
      "Training FE+CLF...\n"
     ]
    },
    {
     "name": "stderr",
     "output_type": "stream",
     "text": [
      "100%|██████████| 50/50 [03:25<00:00,  4.10s/it, [Loss at epoch 50: 0.000629]]\n"
     ]
    },
    {
     "name": "stdout",
     "output_type": "stream",
     "text": [
      "FE+CLF evaluation:\n",
      "Classifier Loss: 1.1783652281274601 | Classifier Accuracy: 0.7829999923706055\n",
      "Training Shadow FE+Shadow CLF...\n"
     ]
    },
    {
     "name": "stderr",
     "output_type": "stream",
     "text": [
      "100%|██████████| 50/50 [06:09<00:00,  7.38s/it, [Loss at epoch 50: 0.000461]]\n"
     ]
    },
    {
     "name": "stdout",
     "output_type": "stream",
     "text": [
      "Shadow FE+Shadow CLF evaluation:\n",
      "Classifier Loss: 1.0214308142662047 | Classifier Accuracy: 0.8202000260353088\n",
      "Training ATK...\n"
     ]
    },
    {
     "name": "stderr",
     "output_type": "stream",
     "text": [
      "100%|██████████| 25/25 [02:48<00:00,  6.75s/it, [Loss at epoch 25: 0.057444]]\n"
     ]
    },
    {
     "name": "stdout",
     "output_type": "stream",
     "text": [
      "Adversary Evaluation:\n",
      "Adversary Loss: 3.3722291350364686 | Adversary Accuracy: 0.49549999833106995\n"
     ]
    }
   ],
   "source": [
    "fe, shadow_fe, adv, clf = train(clf_train_dl, clf_test_dl, atk_train_dl, atk_test_dl, shadow_train_dl, shadow_test_dl, 1, 50)"
   ]
  }
 ],
 "metadata": {
  "kernelspec": {
   "display_name": "Python 3",
   "language": "python",
   "name": "python3"
  },
  "language_info": {
   "codemirror_mode": {
    "name": "ipython",
    "version": 3
   },
   "file_extension": ".py",
   "mimetype": "text/x-python",
   "name": "python",
   "nbconvert_exporter": "python",
   "pygments_lexer": "ipython3",
   "version": "3.10.6 (main, Nov 14 2022, 16:10:14) [GCC 11.3.0]"
  },
  "orig_nbformat": 4,
  "vscode": {
   "interpreter": {
    "hash": "916dbcbb3f70747c44a77c7bcd40155683ae19c65e1c03b4aa3499c5328201f1"
   }
  }
 },
 "nbformat": 4,
 "nbformat_minor": 2
}
