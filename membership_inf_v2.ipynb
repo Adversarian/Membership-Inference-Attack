{
 "cells": [
  {
   "attachments": {},
   "cell_type": "markdown",
   "metadata": {},
   "source": [
    "# Imports"
   ]
  },
  {
   "cell_type": "code",
   "execution_count": 1,
   "metadata": {},
   "outputs": [],
   "source": [
    "import torch\n",
    "from torch import nn\n",
    "from torch import optim\n",
    "from torch.nn import functional as F\n",
    "from torch.utils.data import Dataset, DataLoader, sampler\n",
    "\n",
    "from torchvision.datasets import CIFAR10\n",
    "from torchvision.transforms import ToTensor, Normalize, Compose\n",
    "\n",
    "import torchmetrics\n",
    "\n",
    "from torchinfo import summary\n",
    "\n",
    "from sklearn.model_selection import train_test_split\n",
    "\n",
    "import numpy as np\n",
    "\n",
    "from tqdm import tqdm"
   ]
  },
  {
   "attachments": {},
   "cell_type": "markdown",
   "metadata": {},
   "source": [
    "# Model Definition"
   ]
  },
  {
   "cell_type": "code",
   "execution_count": 2,
   "metadata": {},
   "outputs": [],
   "source": [
    "## Residual Layer\n",
    "class ResidualLayer(nn.Module):\n",
    "    def __init__(self, in_dim, out_dim):\n",
    "        super(ResidualLayer, self).__init__()\n",
    "        self.ConvBlock1 = nn.Sequential(\n",
    "            nn.Conv2d(in_channels=in_dim, out_channels=out_dim//2, kernel_size=3, padding='same', bias=False),\n",
    "            nn.BatchNorm2d(num_features=out_dim//2)\n",
    "        )\n",
    "        self.ConvBlock2 = nn.Sequential(\n",
    "            nn.Conv2d(in_channels=out_dim//2, out_channels=out_dim//2, kernel_size=3, padding='same', bias=False),\n",
    "            nn.BatchNorm2d(num_features=out_dim//2)\n",
    "        )\n",
    "        self.Shortcut1 = nn.Sequential(\n",
    "            nn.Conv2d(in_channels=in_dim, out_channels=out_dim//2, kernel_size=1, bias=False),\n",
    "            nn.BatchNorm2d(num_features=out_dim//2)\n",
    "        )\n",
    "        self.Shortcut2 = nn.Sequential(\n",
    "            nn.Conv2d(in_channels=out_dim//2, out_channels=out_dim//2, kernel_size=1, bias=False),\n",
    "            nn.BatchNorm2d(num_features=out_dim//2)\n",
    "        )\n",
    "        self.DownBlock = nn.Sequential(\n",
    "            nn.Conv2d(in_channels=out_dim//2, out_channels=out_dim, kernel_size=3, bias=False),\n",
    "            nn.BatchNorm2d(num_features=out_dim),\n",
    "            nn.ReLU(),\n",
    "            nn.AvgPool2d(kernel_size=2, stride=2)\n",
    "        )\n",
    "\n",
    "    def forward(self, x):\n",
    "        y = self.ConvBlock1(x)\n",
    "        x = F.relu(self.Shortcut1(x) + y)\n",
    "        y = self.ConvBlock2(x)\n",
    "        x = F.relu(self.Shortcut2(x) + y)\n",
    "        x = self.DownBlock(x)\n",
    "        return x\n"
   ]
  },
  {
   "cell_type": "code",
   "execution_count": 3,
   "metadata": {},
   "outputs": [],
   "source": [
    "## Feature Extractor\n",
    "class FE(nn.Module):\n",
    "    def __init__(self, depths=[3, 32, 64]) -> None:\n",
    "        super(FE, self).__init__()\n",
    "        self.features = nn.Sequential(\n",
    "            ResidualLayer(depths[0], depths[1]),\n",
    "            ResidualLayer(depths[1], depths[2])\n",
    "        )\n",
    "        \n",
    "    def forward(self, x):\n",
    "        return self.features(x)"
   ]
  },
  {
   "cell_type": "code",
   "execution_count": 4,
   "metadata": {},
   "outputs": [
    {
     "data": {
      "text/plain": [
       "==========================================================================================\n",
       "Layer (type:depth-idx)                   Output Shape              Param #\n",
       "==========================================================================================\n",
       "FE                                       [1, 64, 6, 6]             --\n",
       "├─Sequential: 1-1                        [1, 64, 6, 6]             --\n",
       "│    └─ResidualLayer: 2-1                [1, 32, 15, 15]           --\n",
       "│    │    └─Sequential: 3-1              [1, 16, 32, 32]           464\n",
       "│    │    └─Sequential: 3-2              [1, 16, 32, 32]           80\n",
       "│    │    └─Sequential: 3-3              [1, 16, 32, 32]           2,336\n",
       "│    │    └─Sequential: 3-4              [1, 16, 32, 32]           288\n",
       "│    │    └─Sequential: 3-5              [1, 32, 15, 15]           4,672\n",
       "│    └─ResidualLayer: 2-2                [1, 64, 6, 6]             --\n",
       "│    │    └─Sequential: 3-6              [1, 32, 15, 15]           9,280\n",
       "│    │    └─Sequential: 3-7              [1, 32, 15, 15]           1,088\n",
       "│    │    └─Sequential: 3-8              [1, 32, 15, 15]           9,280\n",
       "│    │    └─Sequential: 3-9              [1, 32, 15, 15]           1,088\n",
       "│    │    └─Sequential: 3-10             [1, 64, 6, 6]             18,560\n",
       "==========================================================================================\n",
       "Total params: 47,136\n",
       "Trainable params: 47,136\n",
       "Non-trainable params: 0\n",
       "Total mult-adds (M): 14.98\n",
       "==========================================================================================\n",
       "Input size (MB): 0.01\n",
       "Forward/backward pass size (MB): 2.14\n",
       "Params size (MB): 0.19\n",
       "Estimated Total Size (MB): 2.34\n",
       "=========================================================================================="
      ]
     },
     "execution_count": 4,
     "metadata": {},
     "output_type": "execute_result"
    }
   ],
   "source": [
    "summary(FE(),input_size=(1, 3, 32, 32))"
   ]
  },
  {
   "cell_type": "code",
   "execution_count": 5,
   "metadata": {},
   "outputs": [],
   "source": [
    "## Classifier\n",
    "class CLF(nn.Module):\n",
    "    def __init__(self, depths=[64, 96], num_classes=10) -> None:\n",
    "        super(CLF, self).__init__()\n",
    "        self.features = ResidualLayer(depths[0], depths[1])\n",
    "        self.classfier = nn.Sequential(\n",
    "            nn.Flatten(),\n",
    "            nn.Linear(in_features=384, out_features=num_classes)\n",
    "        )\n",
    "        \n",
    "    def forward(self, x):\n",
    "        x = self.features(x)\n",
    "        return self.classfier(x)"
   ]
  },
  {
   "cell_type": "code",
   "execution_count": 6,
   "metadata": {},
   "outputs": [
    {
     "data": {
      "text/plain": [
       "==========================================================================================\n",
       "Layer (type:depth-idx)                   Output Shape              Param #\n",
       "==========================================================================================\n",
       "CLF                                      [1, 10]                   --\n",
       "├─ResidualLayer: 1-1                     [1, 96, 2, 2]             --\n",
       "│    └─Sequential: 2-1                   [1, 48, 6, 6]             --\n",
       "│    │    └─Conv2d: 3-1                  [1, 48, 6, 6]             27,648\n",
       "│    │    └─BatchNorm2d: 3-2             [1, 48, 6, 6]             96\n",
       "│    └─Sequential: 2-2                   [1, 48, 6, 6]             --\n",
       "│    │    └─Conv2d: 3-3                  [1, 48, 6, 6]             3,072\n",
       "│    │    └─BatchNorm2d: 3-4             [1, 48, 6, 6]             96\n",
       "│    └─Sequential: 2-3                   [1, 48, 6, 6]             --\n",
       "│    │    └─Conv2d: 3-5                  [1, 48, 6, 6]             20,736\n",
       "│    │    └─BatchNorm2d: 3-6             [1, 48, 6, 6]             96\n",
       "│    └─Sequential: 2-4                   [1, 48, 6, 6]             --\n",
       "│    │    └─Conv2d: 3-7                  [1, 48, 6, 6]             2,304\n",
       "│    │    └─BatchNorm2d: 3-8             [1, 48, 6, 6]             96\n",
       "│    └─Sequential: 2-5                   [1, 96, 2, 2]             --\n",
       "│    │    └─Conv2d: 3-9                  [1, 96, 4, 4]             41,472\n",
       "│    │    └─BatchNorm2d: 3-10            [1, 96, 4, 4]             192\n",
       "│    │    └─ReLU: 3-11                   [1, 96, 4, 4]             --\n",
       "│    │    └─AvgPool2d: 3-12              [1, 96, 2, 2]             --\n",
       "├─Sequential: 1-2                        [1, 10]                   --\n",
       "│    └─Flatten: 2-6                      [1, 384]                  --\n",
       "│    └─Linear: 2-7                       [1, 10]                   3,850\n",
       "==========================================================================================\n",
       "Total params: 99,658\n",
       "Trainable params: 99,658\n",
       "Non-trainable params: 0\n",
       "Total mult-adds (M): 2.60\n",
       "==========================================================================================\n",
       "Input size (MB): 0.01\n",
       "Forward/backward pass size (MB): 0.14\n",
       "Params size (MB): 0.40\n",
       "Estimated Total Size (MB): 0.54\n",
       "=========================================================================================="
      ]
     },
     "execution_count": 6,
     "metadata": {},
     "output_type": "execute_result"
    }
   ],
   "source": [
    "summary(CLF(),input_size=(1, 64, 6, 6))"
   ]
  },
  {
   "cell_type": "code",
   "execution_count": 7,
   "metadata": {},
   "outputs": [],
   "source": [
    "# Attacker\n",
    "class ATK(nn.Module):\n",
    "    def __init__(self, num_classes=10, embed_dim=128) -> None:\n",
    "        super(ATK, self).__init__()\n",
    "        self.true_down = nn.Sequential(\n",
    "            nn.Embedding(num_classes, embed_dim),\n",
    "            nn.ReLU(),\n",
    "            nn.Linear(embed_dim, embed_dim//2),\n",
    "            nn.ReLU()\n",
    "        )\n",
    "        self.pred_down = nn.Sequential(\n",
    "            nn.Linear(num_classes, embed_dim),\n",
    "            nn.ReLU(),\n",
    "            nn.Linear(embed_dim, embed_dim//2),\n",
    "            nn.ReLU()\n",
    "        )\n",
    "        self.classfier = nn.Sequential(\n",
    "            nn.Linear(embed_dim, embed_dim//2),\n",
    "            nn.ReLU(),\n",
    "            nn.Linear(embed_dim//2, 1)\n",
    "        )\n",
    "        \n",
    "    def forward(self, y_true, y_pred):\n",
    "       fy1 = self.true_down(y_true)\n",
    "       fy2 = self.pred_down(y_pred)\n",
    "       fy = torch.cat([fy1, fy2], dim=-1)\n",
    "       return self.classfier(fy)"
   ]
  },
  {
   "cell_type": "code",
   "execution_count": 8,
   "metadata": {},
   "outputs": [
    {
     "data": {
      "text/plain": [
       "==========================================================================================\n",
       "Layer (type:depth-idx)                   Output Shape              Param #\n",
       "==========================================================================================\n",
       "ATK                                      [1, 1]                    --\n",
       "├─Sequential: 1-1                        [1, 64]                   --\n",
       "│    └─Embedding: 2-1                    [1, 128]                  1,280\n",
       "│    └─ReLU: 2-2                         [1, 128]                  --\n",
       "│    └─Linear: 2-3                       [1, 64]                   8,256\n",
       "│    └─ReLU: 2-4                         [1, 64]                   --\n",
       "├─Sequential: 1-2                        [1, 64]                   --\n",
       "│    └─Linear: 2-5                       [1, 128]                  1,408\n",
       "│    └─ReLU: 2-6                         [1, 128]                  --\n",
       "│    └─Linear: 2-7                       [1, 64]                   8,256\n",
       "│    └─ReLU: 2-8                         [1, 64]                   --\n",
       "├─Sequential: 1-3                        [1, 1]                    --\n",
       "│    └─Linear: 2-9                       [1, 64]                   8,256\n",
       "│    └─ReLU: 2-10                        [1, 64]                   --\n",
       "│    └─Linear: 2-11                      [1, 1]                    65\n",
       "==========================================================================================\n",
       "Total params: 27,521\n",
       "Trainable params: 27,521\n",
       "Non-trainable params: 0\n",
       "Total mult-adds (M): 0.03\n",
       "==========================================================================================\n",
       "Input size (MB): 0.00\n",
       "Forward/backward pass size (MB): 0.00\n",
       "Params size (MB): 0.11\n",
       "Estimated Total Size (MB): 0.11\n",
       "=========================================================================================="
      ]
     },
     "execution_count": 8,
     "metadata": {},
     "output_type": "execute_result"
    }
   ],
   "source": [
    "summary(ATK(),input_data=(torch.randint(0, 10, (1,)), torch.randn(1, 10)))"
   ]
  },
  {
   "attachments": {},
   "cell_type": "markdown",
   "metadata": {},
   "source": [
    "# Data Preparation"
   ]
  },
  {
   "cell_type": "code",
   "execution_count": 9,
   "metadata": {},
   "outputs": [],
   "source": [
    "class CustomTensorDataset(Dataset):\n",
    "    def __init__(self, tensors, transform=None):\n",
    "        assert all(tensors[0].shape[0] == tensor.shape[0] for tensor in tensors)\n",
    "        self.tensors = tensors\n",
    "        self.transform = transform\n",
    "\n",
    "    def __getitem__(self, index):\n",
    "        X = self.tensors[0][index]\n",
    "        if self.transform is not None:\n",
    "            X = self.transform(X)\n",
    "        return X, tuple(self.tensors[i][index] for i in range(1, len(self.tensors)))\n",
    "    \n",
    "    def __len__(self):\n",
    "        return self.tensors[0].shape[0]"
   ]
  },
  {
   "cell_type": "code",
   "execution_count": 10,
   "metadata": {},
   "outputs": [],
   "source": [
    "tfms = Compose([\n",
    "    ToTensor(),\n",
    "    Normalize((0.5, 0.5, 0.5), (0.5, 0.5, 0.5))\n",
    "])\n",
    "batch_size = 256\n",
    "\n",
    "clf_trainds = CIFAR10(root='PyTorch-StudioGAN/data/', transform=tfms)\n",
    "\n",
    "clf_train_idx, clf_test_idx = train_test_split(\n",
    "    np.arange(len(clf_trainds.targets)), test_size=0.5, shuffle=True, stratify=clf_trainds.targets\n",
    ")\n",
    "train_sampler = sampler.SubsetRandomSampler(clf_train_idx)\n",
    "test_sampler = sampler.SubsetRandomSampler(clf_test_idx)\n",
    "\n",
    "clf_train_dl = DataLoader(clf_trainds, batch_size=batch_size, sampler=train_sampler)\n",
    "clf_test_dl = DataLoader(clf_trainds, batch_size=batch_size, sampler=test_sampler)\n",
    "\n",
    "y_true_atk = [t for t in clf_trainds.targets]\n",
    "y_atk = np.zeros(len(clf_trainds), dtype=int)\n",
    "y_atk[clf_train_idx.tolist()] = 1\n",
    "\n",
    "atk_trainds = CustomTensorDataset(\n",
    "    tensors=(clf_trainds.data, torch.tensor(y_true_atk), torch.tensor(y_atk)),\n",
    "    transform=tfms\n",
    ")\n",
    "\n",
    "atk_train_idx, atk_test_idx = train_test_split(\n",
    "    np.arange(len(atk_trainds.tensors[2].tolist())), test_size=0.2, shuffle=True, stratify=atk_trainds.tensors[2].tolist()\n",
    ")\n",
    "atk_train_sampler = sampler.SubsetRandomSampler(atk_train_idx)\n",
    "atk_test_sampler = sampler.SubsetRandomSampler(atk_test_idx)\n",
    "\n",
    "atk_train_dl = DataLoader(atk_trainds, batch_size=batch_size, sampler=atk_train_sampler)\n",
    "atk_test_dl = DataLoader(atk_trainds, batch_size=batch_size, sampler=atk_test_sampler)"
   ]
  },
  {
   "attachments": {},
   "cell_type": "markdown",
   "metadata": {},
   "source": [
    "# Training"
   ]
  },
  {
   "cell_type": "code",
   "execution_count": 11,
   "metadata": {},
   "outputs": [],
   "source": [
    "def freeze(model):\n",
    "    for param in model.parameters():\n",
    "        param.requires_grad_(False)\n",
    "    model.eval()\n",
    "\n",
    "def unfreeze(model):\n",
    "    for param in model.parameters():\n",
    "        param.requires_grad_(True)\n",
    "    model.train()"
   ]
  },
  {
   "cell_type": "code",
   "execution_count": 12,
   "metadata": {},
   "outputs": [],
   "source": [
    "def eval_atk(fe, atk, clf, atk_test_dl, atk_criterion, device):\n",
    "    fe.eval()\n",
    "    atk.eval()\n",
    "    clf.eval()\n",
    "    acc = torchmetrics.Accuracy().to(device)\n",
    "    loss = []\n",
    "    with torch.no_grad():\n",
    "        for (X, (y1, y2)) in atk_test_dl:\n",
    "            X, y1, y2 = X.to(device), y1.to(device), y2.to(device)\n",
    "            features = fe(X)\n",
    "            clf_y = clf(features)\n",
    "            atk_y = atk(y1, clf_y).squeeze()\n",
    "            loss.append(atk_criterion(atk_y, y2.float()).item())\n",
    "            acc(atk_y, y2)\n",
    "    loss = np.asarray(loss).mean()\n",
    "    print(f'Adversary Loss: {loss} | Adversary Accuracy: {acc.compute()}')"
   ]
  },
  {
   "cell_type": "code",
   "execution_count": 13,
   "metadata": {},
   "outputs": [],
   "source": [
    "def eval_clf(fe, clf, clf_test_dl, clf_criterion, device):\n",
    "    fe.eval()\n",
    "    clf.eval()\n",
    "    acc = torchmetrics.Accuracy().to(device)\n",
    "    loss = []\n",
    "    with torch.no_grad():\n",
    "        for (X, y) in clf_test_dl:\n",
    "            X, y = X.to(device), y.to(device)\n",
    "            features = fe(X)\n",
    "            clf_y = clf(features)\n",
    "            loss.append(clf_criterion(clf_y, y).item())\n",
    "            acc(clf_y, y)\n",
    "    loss = np.asarray(loss).mean()\n",
    "    print(f'Classifier Loss: {loss} | Classifier Accuracy: {acc.compute()}')"
   ]
  },
  {
   "cell_type": "code",
   "execution_count": 14,
   "metadata": {},
   "outputs": [],
   "source": [
    "def train(clf_train_dl, clf_test_dl, atk_train_dl, atk_test_dl, n_epochs, steps_per_epoch = 5):\n",
    "    device = 'cuda' if torch.cuda.is_available() else 'cpu'\n",
    "\n",
    "    feature_extractor = FE().to(device)\n",
    "    adversary = ATK().to(device)\n",
    "    classifier = CLF().to(device)\n",
    "\n",
    "    atk_criterion = nn.BCEWithLogitsLoss().to(device)\n",
    "    clf_criterion = nn.CrossEntropyLoss().to(device)\n",
    "\n",
    "    fe_optim = optim.AdamW(feature_extractor.parameters())\n",
    "    atk_optim = optim.AdamW(adversary.parameters())\n",
    "    clf_optim = optim.AdamW(classifier.parameters())\n",
    "    \n",
    "    for epoch in range(n_epochs):\n",
    "        print(f'EPOCH [{epoch+1}/{n_epochs}]:')\n",
    "        # TODO: Clean train steps\n",
    "        ## train FE+CLF\n",
    "        print('Training FE+CLF...')\n",
    "        for _ in tqdm(range(steps_per_epoch)):\n",
    "            for (X, y) in clf_train_dl:\n",
    "                X, y = X.to(device), y.to(device)\n",
    "                fe_optim.zero_grad()\n",
    "                clf_optim.zero_grad()\n",
    "                features = feature_extractor(X)\n",
    "                predictions = classifier(features)\n",
    "                loss = clf_criterion(predictions, y)\n",
    "                loss.backward()\n",
    "                fe_optim.step()\n",
    "                clf_optim.step()\n",
    "        \n",
    "        ## train FE+ATK\n",
    "        print('Training FE+ATK...')\n",
    "        freeze(classifier)\n",
    "        for _ in tqdm(range(steps_per_epoch)):\n",
    "            for (X, (y1, y2)) in atk_train_dl:\n",
    "                X, y1, y2 = X.to(device), y1.to(device), y2.to(device).float()\n",
    "\n",
    "                atk_optim.zero_grad()\n",
    "                features = feature_extractor(X)\n",
    "                classifier_preds = classifier(features)\n",
    "                adversary_preds = adversary(y1, classifier_preds).squeeze()\n",
    "                loss_atk = atk_criterion(adversary_preds, y2)    \n",
    "                loss_atk.backward()\n",
    "                atk_optim.step()\n",
    "                \n",
    "                fe_optim.zero_grad()\n",
    "                features = feature_extractor(X)\n",
    "                classifier_preds = classifier(features)\n",
    "                adversary_preds = adversary(y1, classifier_preds).squeeze()   \n",
    "                loss_fe = atk_criterion(1 - adversary_preds, y2) + clf_criterion(classifier_preds, y1)\n",
    "                loss_fe.backward()\n",
    "                fe_optim.step()      \n",
    "        unfreeze(classifier)\n",
    "\n",
    "        ## train CLF\n",
    "        print('Training CLF...')\n",
    "        freeze(feature_extractor)\n",
    "        for _ in tqdm(range(steps_per_epoch)):\n",
    "            for (X, y) in clf_train_dl:\n",
    "                X, y = X.to(device), y.to(device)\n",
    "                clf_optim.zero_grad()\n",
    "                features = feature_extractor(X)\n",
    "                predictions = classifier(features)\n",
    "                loss = clf_criterion(predictions, y)\n",
    "                loss.backward()\n",
    "                clf_optim.step()\n",
    "        unfreeze(feature_extractor)\n",
    "\n",
    "        ## train ATK\n",
    "        print('Training ATK...')\n",
    "        freeze(feature_extractor)\n",
    "        freeze(classifier)\n",
    "        for _ in tqdm(range(steps_per_epoch)):\n",
    "            for (X, (y1, y2)) in atk_train_dl:\n",
    "                X, y1, y2 = X.to(device), y1.to(device), y2.to(device).float()\n",
    "                atk_optim.zero_grad()\n",
    "                features = feature_extractor(X)\n",
    "                classifier_preds = classifier(features)\n",
    "                adversary_preds = adversary(y1, classifier_preds).squeeze()\n",
    "                loss_atk = atk_criterion(adversary_preds, y2)    \n",
    "                loss_atk.backward()\n",
    "                atk_optim.step()\n",
    "        unfreeze(feature_extractor)\n",
    "        unfreeze(classifier)\n",
    "        \n",
    "        ## eval steps\n",
    "        eval_clf(feature_extractor, classifier, clf_test_dl, clf_criterion, device)\n",
    "        eval_atk(feature_extractor, adversary, classifier, atk_test_dl, atk_criterion, device)\n",
    "    return feature_extractor, adversary, classifier\n"
   ]
  },
  {
   "cell_type": "code",
   "execution_count": 15,
   "metadata": {},
   "outputs": [
    {
     "name": "stdout",
     "output_type": "stream",
     "text": [
      "EPOCH [1/2]:\n",
      "Training FE+CLF...\n"
     ]
    },
    {
     "name": "stderr",
     "output_type": "stream",
     "text": [
      "100%|██████████| 75/75 [05:10<00:00,  4.14s/it]\n"
     ]
    },
    {
     "name": "stdout",
     "output_type": "stream",
     "text": [
      "Training FE+ATK...\n"
     ]
    },
    {
     "name": "stderr",
     "output_type": "stream",
     "text": [
      "100%|██████████| 75/75 [07:52<00:00,  6.30s/it]\n"
     ]
    },
    {
     "name": "stdout",
     "output_type": "stream",
     "text": [
      "Training CLF...\n"
     ]
    },
    {
     "name": "stderr",
     "output_type": "stream",
     "text": [
      "100%|██████████| 75/75 [04:31<00:00,  3.62s/it]\n"
     ]
    },
    {
     "name": "stdout",
     "output_type": "stream",
     "text": [
      "Training ATK...\n"
     ]
    },
    {
     "name": "stderr",
     "output_type": "stream",
     "text": [
      "100%|██████████| 75/75 [04:00<00:00,  3.20s/it]\n"
     ]
    },
    {
     "name": "stdout",
     "output_type": "stream",
     "text": [
      "Classifier Loss: 0.4615499711766535 | Classifier Accuracy: 0.9100800156593323\n",
      "Adversary Loss: 0.6302769497036934 | Adversary Accuracy: 0.6105999946594238\n",
      "EPOCH [2/2]:\n",
      "Training FE+CLF...\n"
     ]
    },
    {
     "name": "stderr",
     "output_type": "stream",
     "text": [
      "100%|██████████| 75/75 [05:15<00:00,  4.21s/it]\n"
     ]
    },
    {
     "name": "stdout",
     "output_type": "stream",
     "text": [
      "Training FE+ATK...\n"
     ]
    },
    {
     "name": "stderr",
     "output_type": "stream",
     "text": [
      "100%|██████████| 75/75 [07:59<00:00,  6.39s/it]\n"
     ]
    },
    {
     "name": "stdout",
     "output_type": "stream",
     "text": [
      "Training CLF...\n"
     ]
    },
    {
     "name": "stderr",
     "output_type": "stream",
     "text": [
      "100%|██████████| 75/75 [04:33<00:00,  3.65s/it]\n"
     ]
    },
    {
     "name": "stdout",
     "output_type": "stream",
     "text": [
      "Training ATK...\n"
     ]
    },
    {
     "name": "stderr",
     "output_type": "stream",
     "text": [
      "100%|██████████| 75/75 [04:01<00:00,  3.22s/it]\n"
     ]
    },
    {
     "name": "stdout",
     "output_type": "stream",
     "text": [
      "Classifier Loss: 2.9020180142655665 | Classifier Accuracy: 0.4946799874305725\n",
      "Adversary Loss: 0.632641413807869 | Adversary Accuracy: 0.6589000225067139\n"
     ]
    }
   ],
   "source": [
    "fe, adv, clf = train(clf_train_dl, clf_test_dl, atk_train_dl, atk_test_dl, 2, 75)"
   ]
  }
 ],
 "metadata": {
  "kernelspec": {
   "display_name": "Python 3",
   "language": "python",
   "name": "python3"
  },
  "language_info": {
   "codemirror_mode": {
    "name": "ipython",
    "version": 3
   },
   "file_extension": ".py",
   "mimetype": "text/x-python",
   "name": "python",
   "nbconvert_exporter": "python",
   "pygments_lexer": "ipython3",
   "version": "3.10.6 (main, Nov 14 2022, 16:10:14) [GCC 11.3.0]"
  },
  "orig_nbformat": 4,
  "vscode": {
   "interpreter": {
    "hash": "916dbcbb3f70747c44a77c7bcd40155683ae19c65e1c03b4aa3499c5328201f1"
   }
  }
 },
 "nbformat": 4,
 "nbformat_minor": 2
}
